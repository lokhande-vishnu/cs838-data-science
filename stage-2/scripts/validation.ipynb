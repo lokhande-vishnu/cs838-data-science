{
 "cells": [
  {
   "cell_type": "markdown",
   "metadata": {},
   "source": [
    "## Code to add new features\n",
    "Choose the classifier which gave very good accuracies in the previous cross-validation stage.\n",
    "Train that classifier on Set P and test it on Set Q\n",
    "Improve recall using false positives"
   ]
  },
  {
   "cell_type": "code",
   "execution_count": 26,
   "metadata": {
    "collapsed": false
   },
   "outputs": [],
   "source": [
    "import arff, numpy as np\n",
    "dataset = arff.load(open('../Debugging_stage/debug_P.arff'))\n",
    "train = np.array(dataset['data'])\n",
    "dataset = arff.load(open('../Debugging_stage/debug_Q.arff'))\n",
    "test = np.array(dataset['data'])"
   ]
  },
  {
   "cell_type": "code",
   "execution_count": 27,
   "metadata": {
    "collapsed": false
   },
   "outputs": [
    {
     "name": "stdout",
     "output_type": "stream",
     "text": [
      "[['1.0' '1.0' '0.0' '0.0' 'true' 'false']\n",
      " ['1.0' '0.0' '0.0' '0.0' 'true' 'false']\n",
      " ['0.0' '0.0' '0.0' '0.0' 'true' 'false']\n",
      " ..., \n",
      " ['0.0' '0.0' '0.0' '0.0' 'false' 'false']\n",
      " ['0.0' '0.0' '0.0' '0.0' 'false' 'false']\n",
      " ['0.0' '0.0' '0.0' '0.0' 'false' 'false']]\n",
      "[['0.0' '0.0' '0.0' '0.0' 'false' 'false']\n",
      " ['0.0' '0.0' '0.0' '0.0' 'false' 'false']\n",
      " ['0.0' '0.0' '0.0' '0.0' 'false' 'false']\n",
      " ..., \n",
      " ['0.0' '0.0' '0.0' '0.0' 'false' 'false']\n",
      " ['0.0' '0.0' '0.0' '0.0' 'false' 'false']\n",
      " ['0.0' '0.0' '0.0' '0.0' 'false' 'false']]\n"
     ]
    }
   ],
   "source": [
    "length = len(train[0]);\n",
    "train_input = train[:,0:(length-3)]\n",
    "print(train_input)\n",
    "train_labels = train[:,(length-1)] # this is the class column\n",
    "\n",
    "test_input = test[:,0:(length-3)]\n",
    "print(test_input)\n",
    "test_labels = test[:,(length-1)] # this is the class column"
   ]
  },
  {
   "cell_type": "code",
   "execution_count": 28,
   "metadata": {
    "collapsed": false
   },
   "outputs": [
    {
     "name": "stdout",
     "output_type": "stream",
     "text": [
      "[1 1 1 ..., 0 0 0]\n",
      "[1 1 1 ..., 0 0 0]\n"
     ]
    }
   ],
   "source": [
    "from sklearn import preprocessing\n",
    "le = preprocessing.LabelEncoder()\n",
    "lb = preprocessing.LabelBinarizer()\n",
    "merged_labels =[]\n",
    "merged_labels.extend(train_labels)\n",
    "merged_labels.extend(test_labels)\n",
    "lb.fit(merged_labels)\n",
    "train_labels = np.array([number[0] for number in lb.transform(train_labels)])\n",
    "print(train_labels)\n",
    "\n",
    "test_labels = np.array([number[0] for number in lb.transform(test_labels)])\n",
    "print(test_labels)\n",
    "\n",
    "for i in range(length-3):\n",
    "    merged_data = []\n",
    "    merged_data.extend(train[:,i])\n",
    "    merged_data.extend(test[:,i])\n",
    "    le.fit(merged_data)\n",
    "    train_input[:,i] = le.transform(train[:,i])\n",
    "    test_input[:,i] = le.transform(test[:,i])"
   ]
  },
  {
   "cell_type": "code",
   "execution_count": 29,
   "metadata": {
    "collapsed": false
   },
   "outputs": [
    {
     "name": "stdout",
     "output_type": "stream",
     "text": [
      "[['1' '1' '0' '0' '1' '0']\n",
      " ['1' '0' '0' '0' '1' '0']\n",
      " ['0' '0' '0' '0' '1' '0']\n",
      " ..., \n",
      " ['0' '0' '0' '0' '0' '0']\n",
      " ['0' '0' '0' '0' '0' '0']\n",
      " ['0' '0' '0' '0' '0' '0']]\n",
      "[['0' '0' '0' '0' '0' '0']\n",
      " ['0' '0' '0' '0' '0' '0']\n",
      " ['0' '0' '0' '0' '0' '0']\n",
      " ..., \n",
      " ['0' '0' '0' '0' '0' '0']\n",
      " ['0' '0' '0' '0' '0' '0']\n",
      " ['0' '0' '0' '0' '0' '0']]\n",
      "Random Forest\n",
      "             precision    recall  f1-score   support\n",
      "\n",
      "   negative       0.78      0.97      0.87      3210\n",
      "   positive       0.77      0.26      0.39      1179\n",
      "\n",
      "avg / total       0.78      0.78      0.74      4389\n",
      "\n"
     ]
    },
    {
     "name": "stderr",
     "output_type": "stream",
     "text": [
      "/Users/deepu/anaconda/lib/python3.6/site-packages/sklearn/utils/validation.py:429: DataConversionWarning: Data with input dtype <U128 was converted to float64 by StandardScaler.\n",
      "  warnings.warn(msg, _DataConversionWarning)\n",
      "/Users/deepu/anaconda/lib/python3.6/site-packages/sklearn/utils/validation.py:429: DataConversionWarning: Data with input dtype <U293 was converted to float64 by StandardScaler.\n",
      "  warnings.warn(msg, _DataConversionWarning)\n"
     ]
    }
   ],
   "source": [
    "import numpy as np\n",
    "import matplotlib.pyplot as plt\n",
    "from matplotlib.colors import ListedColormap\n",
    "from sklearn.model_selection import train_test_split\n",
    "from sklearn.preprocessing import StandardScaler\n",
    "from sklearn.datasets import make_moons, make_circles, make_classification\n",
    "from sklearn.neural_network import MLPClassifier\n",
    "from sklearn.neighbors import KNeighborsClassifier\n",
    "from sklearn.svm import SVC\n",
    "from sklearn.gaussian_process import GaussianProcessClassifier\n",
    "from sklearn.gaussian_process.kernels import RBF\n",
    "from sklearn.tree import DecisionTreeClassifier\n",
    "from sklearn.ensemble import RandomForestClassifier, AdaBoostClassifier\n",
    "from sklearn.naive_bayes import GaussianNB\n",
    "from sklearn.discriminant_analysis import QuadraticDiscriminantAnalysis\n",
    "from sklearn.model_selection import cross_val_predict\n",
    "from sklearn.model_selection import cross_val_score\n",
    "from sklearn.metrics import classification_report\n",
    "\n",
    "name = \"Random Forest\"\n",
    "clf = RandomForestClassifier(max_depth=5, n_estimators=10, max_features=1)\n",
    "input = []\n",
    "input.extend(train_input)\n",
    "input.extend(test_input)\n",
    "\n",
    "scaler = StandardScaler()\n",
    "scaler.fit(input)\n",
    "train_input = scaler.transform(train_input)\n",
    "test_input = scaler.transform(test_input)\n",
    "\n",
    "clf.fit(train_input, train_labels)\n",
    "predicted_labels = clf.predict(test_input)\n",
    "print(name)\n",
    "print(classification_report(test_labels, predicted_labels,target_names = ['negative','positive']))"
   ]
  }
 ],
 "metadata": {
  "kernelspec": {
   "display_name": "Python 3",
   "language": "python",
   "name": "python3"
  },
  "language_info": {
   "codemirror_mode": {
    "name": "ipython",
    "version": 3
   },
   "file_extension": ".py",
   "mimetype": "text/x-python",
   "name": "python",
   "nbconvert_exporter": "python",
   "pygments_lexer": "ipython3",
   "version": "3.6.0"
  }
 },
 "nbformat": 4,
 "nbformat_minor": 2
}
