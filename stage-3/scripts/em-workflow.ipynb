{
 "cells": [
  {
   "cell_type": "code",
   "execution_count": 19,
   "metadata": {
    "collapsed": false
   },
   "outputs": [
    {
     "name": "stderr",
     "output_type": "stream",
     "text": [
      "Metadata file is not present in the given path; proceeding to read the csv file.\n",
      "Metadata file is not present in the given path; proceeding to read the csv file.\n"
     ]
    }
   ],
   "source": [
    "# Read the csv dataset\n",
    "import py_entitymatching as em\n",
    "A = em.read_csv_metadata('../datasets/yelp_data_csv.csv', key='id')\n",
    "B = em.read_csv_metadata('../datasets/inspection_data_csv.csv', key='id')\n",
    "\n"
   ]
  },
  {
   "cell_type": "code",
   "execution_count": 20,
   "metadata": {
    "collapsed": false
   },
   "outputs": [
    {
     "data": {
      "text/html": [
       "<div>\n",
       "<table border=\"1\" class=\"dataframe\">\n",
       "  <thead>\n",
       "    <tr style=\"text-align: right;\">\n",
       "      <th></th>\n",
       "      <th>id</th>\n",
       "      <th>name</th>\n",
       "      <th>zip_code</th>\n",
       "      <th>phone</th>\n",
       "      <th>address</th>\n",
       "    </tr>\n",
       "  </thead>\n",
       "  <tbody>\n",
       "    <tr>\n",
       "      <th>0</th>\n",
       "      <td>1</td>\n",
       "      <td>Barn Joo 35</td>\n",
       "      <td>10001</td>\n",
       "      <td>2125644430</td>\n",
       "      <td>34 W 35th St, ,</td>\n",
       "    </tr>\n",
       "    <tr>\n",
       "      <th>1</th>\n",
       "      <td>2</td>\n",
       "      <td>Friedman's</td>\n",
       "      <td>10001</td>\n",
       "      <td>2129719400</td>\n",
       "      <td>132 W 31st St, ,</td>\n",
       "    </tr>\n",
       "    <tr>\n",
       "      <th>2</th>\n",
       "      <td>3</td>\n",
       "      <td>Juniper</td>\n",
       "      <td>10001</td>\n",
       "      <td>2129672511</td>\n",
       "      <td>237 W 35th St,</td>\n",
       "    </tr>\n",
       "    <tr>\n",
       "      <th>3</th>\n",
       "      <td>4</td>\n",
       "      <td>Haymaker Bar and Kitchen</td>\n",
       "      <td>10001</td>\n",
       "      <td>6464298237</td>\n",
       "      <td>252 W 29th St, ,</td>\n",
       "    </tr>\n",
       "    <tr>\n",
       "      <th>4</th>\n",
       "      <td>5</td>\n",
       "      <td>Izakaya MEW</td>\n",
       "      <td>10001</td>\n",
       "      <td>6463689384</td>\n",
       "      <td>53 W 35th St, Basement,</td>\n",
       "    </tr>\n",
       "  </tbody>\n",
       "</table>\n",
       "</div>"
      ],
      "text/plain": [
       "   id                      name  zip_code       phone                  address\n",
       "0   1               Barn Joo 35     10001  2125644430          34 W 35th St, ,\n",
       "1   2                Friedman's     10001  2129719400         132 W 31st St, ,\n",
       "2   3                   Juniper     10001  2129672511           237 W 35th St,\n",
       "3   4  Haymaker Bar and Kitchen     10001  6464298237         252 W 29th St, ,\n",
       "4   5               Izakaya MEW     10001  6463689384  53 W 35th St, Basement,"
      ]
     },
     "execution_count": 20,
     "metadata": {},
     "output_type": "execute_result"
    }
   ],
   "source": [
    "A.head()"
   ]
  },
  {
   "cell_type": "code",
   "execution_count": 21,
   "metadata": {
    "collapsed": false
   },
   "outputs": [
    {
     "name": "stderr",
     "output_type": "stream",
     "text": [
      "0%                          100%\n",
      "[##############################] | ETA: 00:00:06 | ETA: 00:00:06 | ETA: 00:00:05 | ETA: 00:00:05 | ETA: 00:00:05 | ETA: 00:00:04 | ETA: 00:00:04 | ETA: 00:00:04 | ETA: 00:00:04 | ETA: 00:00:03 | ETA: 00:00:03 | ETA: 00:00:03 | ETA: 00:00:03 | ETA: 00:00:03 | ETA: 00:00:02 | ETA: 00:00:02 | ETA: 00:00:02 | ETA: 00:00:02 | ETA: 00:00:02 | ETA: 00:00:01 | ETA: 00:00:01 | ETA: 00:00:01 | ETA: 00:00:01 | ETA: 00:00:01 | ETA: 00:00:00 | ETA: 00:00:00 | ETA: 00:00:00 | ETA: 00:00:00 | ETA: 00:00:00 | ETA: 00:00:00 | ETA: 00:00:00\n",
      "Total time elapsed: 00:00:05\n"
     ]
    }
   ],
   "source": [
    "# Down-sample\n",
    "sample_A, sample_B = em.down_sample(A, B, size=10000, y_param=2)"
   ]
  },
  {
   "cell_type": "code",
   "execution_count": 22,
   "metadata": {
    "collapsed": false
   },
   "outputs": [
    {
     "name": "stdout",
     "output_type": "stream",
     "text": [
      "<class 'numpy.int64'>\n",
      "<class 'str'>\n"
     ]
    }
   ],
   "source": [
    "# Perform blocking\n",
    "ab = em.AttrEquivalenceBlocker()\n",
    "C = ab.block_tables(A, B, 'phone', 'phone', l_output_attrs=['name'], r_output_attrs=['name'])\n",
    "print(type(A.ix[0]['phone']))\n",
    "print(type(B.ix[0]['phone']))"
   ]
  },
  {
   "cell_type": "code",
   "execution_count": 23,
   "metadata": {
    "collapsed": false
   },
   "outputs": [
    {
     "data": {
      "text/plain": [
       "0"
      ]
     },
     "execution_count": 23,
     "metadata": {},
     "output_type": "execute_result"
    }
   ],
   "source": [
    "len(C)"
   ]
  },
  {
   "cell_type": "code",
   "execution_count": null,
   "metadata": {
    "collapsed": true
   },
   "outputs": [],
   "source": []
  }
 ],
 "metadata": {
  "kernelspec": {
   "display_name": "Python 3",
   "language": "python",
   "name": "python3"
  },
  "language_info": {
   "codemirror_mode": {
    "name": "ipython",
    "version": 3
   },
   "file_extension": ".py",
   "mimetype": "text/x-python",
   "name": "python",
   "nbconvert_exporter": "python",
   "pygments_lexer": "ipython3",
   "version": "3.6.1"
  }
 },
 "nbformat": 4,
 "nbformat_minor": 2
}
