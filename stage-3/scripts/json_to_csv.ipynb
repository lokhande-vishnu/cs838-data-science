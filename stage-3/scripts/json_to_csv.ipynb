{
 "cells": [
  {
   "cell_type": "code",
   "execution_count": 48,
   "metadata": {
    "collapsed": false,
    "deletable": true,
    "editable": true
   },
   "outputs": [
    {
     "name": "stdout",
     "output_type": "stream",
     "text": [
      "Done\n"
     ]
    }
   ],
   "source": [
    "import csv\n",
    "import json\n",
    "\n",
    "x = json.load(open('../../stage-1/datasets/yelp_data.json'))\n",
    "\n",
    "f = csv.writer(open(\"../datasets/yelp_data.csv\", \"w\"))\n",
    "\n",
    "# Write CSV Header, If you dont need that, remove this line\n",
    "f.writerow([\"id\",\"name\",\"zip_code\", \"phone\", \"address\"])\n",
    "id = 1\n",
    "for x in x:\n",
    "    address = \"\";\n",
    "    if(x[\"location\"][\"address1\"] is not None):\n",
    "        address = address + x[\"location\"][\"address1\"]    \n",
    "    if(x[\"location\"][\"address2\"] is not None):\n",
    "        address = address + \", \" + x[\"location\"][\"address2\"]\n",
    "    if(x[\"location\"][\"address3\"] is not None):\n",
    "        address = address + \", \" + x[\"location\"][\"address3\"]\n",
    "    address = str(address.strip())\n",
    "    zipcode = str(x[\"location\"][\"zip_code\"].strip())\n",
    "    phone = str(x[\"phone\"]).strip()[2:]\n",
    "    name = str(x[\"name\"]).strip()\n",
    "    if(len(name)>=1 and len(phone) >= 1 and len(zipcode) >= 1 and len(address) >= 1):\n",
    "        f.writerow([str(id), name, eval(zipcode), str(phone), address])\n",
    "    id = id + 1\n",
    "print(\"Done\")"
   ]
  },
  {
   "cell_type": "code",
   "execution_count": 49,
   "metadata": {
    "collapsed": false,
    "deletable": true,
    "editable": true
   },
   "outputs": [
    {
     "name": "stdout",
     "output_type": "stream",
     "text": [
      "Done\n"
     ]
    }
   ],
   "source": [
    "import csv\n",
    "import json\n",
    "\n",
    "reader = csv.DictReader(open('../datasets/yelp_data.csv'))\n",
    "\n",
    "f = csv.writer(open(\"../datasets/yelp_data_csv.csv\", \"w\"))\n",
    "\n",
    "# Write CSV Header, If you dont need that, remove this line\n",
    "f.writerow([\"id\",\"name\",\"zip_code\", \"phone\", \"address\"])\n",
    "id = 1\n",
    "for x in reader:\n",
    "    if(len(name)>=1 and len(phone) >= 1 and len(zipcode) >= 1 and len(address) >= 1):\n",
    "        f.writerow([str(x['id']), str(x['name']), str(x['zip_code']), str(x['phone']), str(x['address'])])\n",
    "    id = id + 1\n",
    "print(\"Done\")"
   ]
  },
  {
   "cell_type": "code",
   "execution_count": null,
   "metadata": {
    "collapsed": true
   },
   "outputs": [],
   "source": []
  },
  {
   "cell_type": "code",
   "execution_count": 54,
   "metadata": {
    "collapsed": false
   },
   "outputs": [
    {
     "name": "stdout",
     "output_type": "stream",
     "text": [
      "Done\n"
     ]
    }
   ],
   "source": [
    "import re\n",
    "import csv\n",
    "import json\n",
    "\n",
    "reader = csv.DictReader(open('../datasets/inspection_data.csv'))\n",
    "\n",
    "f = csv.writer(open(\"../datasets/inspection_data_csv.csv\", \"w\"))\n",
    "\n",
    "# Write CSV Header, If you dont need that, remove this line\n",
    "f.writerow([\"id\",\"name\",\"zip_code\", \"phone\", \"address\"])\n",
    "id = 1\n",
    "for x in reader:\n",
    "    if(len(name)>=1 and len(phone) == 10 and len(zipcode) >= 1 and len(address) >= 1 and re.match(r'\\d{10}', x['phone'])):\n",
    "        f.writerow([str(x['id']), str(x['name']), str(x['zip_code']), str(x['phone']), str(x['address'])])\n",
    "    id = id + 1\n",
    "print(\"Done\")"
   ]
  }
 ],
 "metadata": {
  "kernelspec": {
   "display_name": "Python 3",
   "language": "python",
   "name": "python3"
  },
  "language_info": {
   "codemirror_mode": {
    "name": "ipython",
    "version": 3
   },
   "file_extension": ".py",
   "mimetype": "text/x-python",
   "name": "python",
   "nbconvert_exporter": "python",
   "pygments_lexer": "ipython3",
   "version": "3.6.1"
  }
 },
 "nbformat": 4,
 "nbformat_minor": 2
}
